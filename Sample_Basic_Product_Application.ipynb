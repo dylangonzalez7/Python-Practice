{
  "nbformat": 4,
  "nbformat_minor": 0,
  "metadata": {
    "colab": {
      "provenance": []
    },
    "kernelspec": {
      "name": "python3",
      "display_name": "Python 3"
    },
    "language_info": {
      "name": "python"
    }
  },
  "cells": [
    {
      "cell_type": "code",
      "execution_count": 4,
      "metadata": {
        "colab": {
          "base_uri": "https://localhost:8080/"
        },
        "id": "orjf4dFpMYBi",
        "outputId": "7001d191-3c79-4868-99a7-e658e7cc85a6"
      },
      "outputs": [
        {
          "output_type": "stream",
          "name": "stdout",
          "text": [
            "Products:\n",
            "1. Type: Eye liner,             Price: $50.0,             Volume: 10ml,            Brand: Maybelline,             Title: Age Defying Mist\n",
            "2. Type: Facial Cream,             Price: $40.0,             Volume: 13ml,            Brand: Benefit,             Title: Fountain of Youth\n",
            "3. Type: Lipstick,             Price: $30.0,             Volume: 8ml,            Brand: Loreal,             Title: Start it off with a Kiss\n"
          ]
        }
      ],
      "source": [
        "class Product:\n",
        "    def __init__(self, product_type, price, volume, brand, title):\n",
        "        self.type = product_type  #mascara, facial cream\n",
        "        self.price = price   #variables\n",
        "        self.volume = volume\n",
        "        self.brand = brand\n",
        "        self.title = title\n",
        "\n",
        "class Store:\n",
        "    def __init__(self):\n",
        "        self.products = []  #array\n",
        "\n",
        "    def add_product(self, product_type, price, volume, brand, title):\n",
        "        new_product = Product(product_type, price, volume, brand, title)\n",
        "        self.products.append(new_product)\n",
        "\n",
        "    def print_products(self):\n",
        "        print(\"Products:\")\n",
        "        for i, product in enumerate(self.products):\n",
        "            print(f\"{i+1}. Type: {product.type}, \\\n",
        "            Price: ${product.price}, \\\n",
        "            Volume: {product.volume},\\\n",
        "            Brand: {product.brand}, \\\n",
        "            Title: {product.title}\")\n",
        "\n",
        "\n",
        "my_store = Store()                          #first variable\n",
        "\n",
        "my_store.add_product(\"Eye liner\", 50.0, \"10ml\", \"Maybelline\", \"Age Defying Mist\")\n",
        "my_store.add_product(\"Facial Cream\", 40.0, \"13ml\", \"Benefit\", \"Fountain of Youth\")\n",
        "my_store.add_product(\"Lipstick\", 30.0, \"8ml\", \"Loreal\", \"Start it off with a Kiss\")\n",
        "\n",
        "\n",
        "my_store.print_products()\n"
      ]
    }
  ]
}